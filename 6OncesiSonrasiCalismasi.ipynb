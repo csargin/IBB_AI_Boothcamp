{
  "cells": [
    {
      "cell_type": "markdown",
      "metadata": {
        "id": "view-in-github",
        "colab_type": "text"
      },
      "source": [
        "<a href=\"https://colab.research.google.com/github/csargin/IBB_AI_Boothcamp/blob/main/6OncesiSonrasiCalismasi.ipynb\" target=\"_parent\"><img src=\"https://colab.research.google.com/assets/colab-badge.svg\" alt=\"Open In Colab\"/></a>"
      ]
    },
    {
      "cell_type": "markdown",
      "id": "8a4c7253",
      "metadata": {
        "id": "8a4c7253"
      },
      "source": [
        "## Öncesi sonrası image slider yapımı"
      ]
    },
    {
      "cell_type": "markdown",
      "id": "f2898b4e",
      "metadata": {
        "id": "f2898b4e"
      },
      "source": [
        "![image.png](attachment:image.png)"
      ]
    },
    {
      "cell_type": "code",
      "execution_count": null,
      "id": "e4b84b20",
      "metadata": {
        "id": "e4b84b20"
      },
      "outputs": [],
      "source": [
        "pip install leafmap"
      ]
    },
    {
      "cell_type": "code",
      "execution_count": null,
      "id": "5842cf72",
      "metadata": {
        "id": "5842cf72"
      },
      "outputs": [],
      "source": [
        "import leafmap.foliumap as leafmap\n",
        "img1 = \"2.png\"\n",
        "img2 = \"1.png\"\n",
        "leafmap.image_comparison(\n",
        "    img1,\n",
        "    img2,\n",
        "    label1=\"2024\",\n",
        "    label2=\"2019\",\n",
        "    starting_position=50,\n",
        "    out_html=\"image_comparison.html\"\n",
        ")\n",
        "#Orman yangını\n",
        "#deprem bölgesi\n",
        "#Öncesi sonrası yapmak için\n",
        "# image_comparison.html dosyayı açıp kullanabilirsiniz."
      ]
    }
  ],
  "metadata": {
    "kernelspec": {
      "display_name": "Python 3 (ipykernel)",
      "language": "python",
      "name": "python3"
    },
    "language_info": {
      "codemirror_mode": {
        "name": "ipython",
        "version": 3
      },
      "file_extension": ".py",
      "mimetype": "text/x-python",
      "name": "python",
      "nbconvert_exporter": "python",
      "pygments_lexer": "ipython3",
      "version": "3.11.5"
    },
    "colab": {
      "provenance": [],
      "include_colab_link": true
    }
  },
  "nbformat": 4,
  "nbformat_minor": 5
}